{
 "cells": [
  {
   "cell_type": "code",
   "execution_count": 3,
   "metadata": {
    "collapsed": true,
    "ExecuteTime": {
     "end_time": "2023-07-29T15:31:56.240920Z",
     "start_time": "2023-07-29T15:31:56.234028Z"
    }
   },
   "outputs": [],
   "source": [
    "from sklearn.linear_model import SGDClassifier\n",
    "from sklearn.model_selection import train_test_split\n",
    "from sklearn.multiclass import OneVsRestClassifier\n",
    "from sklearn.multioutput import ClassifierChain\n",
    "from sklearn.preprocessing import MultiLabelBinarizer\n",
    "from xgboost import XGBClassifier\n",
    "from data_preprocessing.data_preprocessor import DataPreprocessor\n",
    "from modeling.model_handler import ModelHandler\n"
   ]
  },
  {
   "cell_type": "code",
   "execution_count": 4,
   "outputs": [],
   "source": [
    "data_preprocessor = DataPreprocessor('data/processed_data.csv')"
   ],
   "metadata": {
    "collapsed": false,
    "ExecuteTime": {
     "end_time": "2023-07-29T15:31:58.524839Z",
     "start_time": "2023-07-29T15:31:58.054364Z"
    }
   }
  },
  {
   "cell_type": "code",
   "execution_count": 5,
   "outputs": [
    {
     "data": {
      "text/plain": "                                            plot_summary  \\\n0      Murugappa  is a small time farm labourer who l...   \n1      A hyper-vigilant agent of the Department of Pu...   \n2      Four friends- Gangu , Abdul , Nihal  and Gary ...   \n3      A married man is having an affair with another...   \n4      The movie concerns the life of Tomasina \"Tommy...   \n...                                                  ...   \n29990  Jimmy Boland  has been sentenced to a Californ...   \n29991  Englishman Ronald Quayle was accused of murder...   \n29995  Managing Editor Sam Gatlin arrives in the afte...   \n29997  The film is about a woman named Jennefer  who ...   \n29999  In Asheville, Grace , an airport car-rental ag...   \n\n                       genres  \n0                     [Drama]  \n1           [Thriller, Drama]  \n2             [Action, Drama]  \n3                     [Drama]  \n4      [Romance Film, Comedy]  \n...                       ...  \n29990                [Action]  \n29991                 [Drama]  \n29995                 [Drama]  \n29997       [Thriller, Drama]  \n29999                 [Drama]  \n\n[22677 rows x 2 columns]",
      "text/html": "<div>\n<style scoped>\n    .dataframe tbody tr th:only-of-type {\n        vertical-align: middle;\n    }\n\n    .dataframe tbody tr th {\n        vertical-align: top;\n    }\n\n    .dataframe thead th {\n        text-align: right;\n    }\n</style>\n<table border=\"1\" class=\"dataframe\">\n  <thead>\n    <tr style=\"text-align: right;\">\n      <th></th>\n      <th>plot_summary</th>\n      <th>genres</th>\n    </tr>\n  </thead>\n  <tbody>\n    <tr>\n      <th>0</th>\n      <td>Murugappa  is a small time farm labourer who l...</td>\n      <td>[Drama]</td>\n    </tr>\n    <tr>\n      <th>1</th>\n      <td>A hyper-vigilant agent of the Department of Pu...</td>\n      <td>[Thriller, Drama]</td>\n    </tr>\n    <tr>\n      <th>2</th>\n      <td>Four friends- Gangu , Abdul , Nihal  and Gary ...</td>\n      <td>[Action, Drama]</td>\n    </tr>\n    <tr>\n      <th>3</th>\n      <td>A married man is having an affair with another...</td>\n      <td>[Drama]</td>\n    </tr>\n    <tr>\n      <th>4</th>\n      <td>The movie concerns the life of Tomasina \"Tommy...</td>\n      <td>[Romance Film, Comedy]</td>\n    </tr>\n    <tr>\n      <th>...</th>\n      <td>...</td>\n      <td>...</td>\n    </tr>\n    <tr>\n      <th>29990</th>\n      <td>Jimmy Boland  has been sentenced to a Californ...</td>\n      <td>[Action]</td>\n    </tr>\n    <tr>\n      <th>29991</th>\n      <td>Englishman Ronald Quayle was accused of murder...</td>\n      <td>[Drama]</td>\n    </tr>\n    <tr>\n      <th>29995</th>\n      <td>Managing Editor Sam Gatlin arrives in the afte...</td>\n      <td>[Drama]</td>\n    </tr>\n    <tr>\n      <th>29997</th>\n      <td>The film is about a woman named Jennefer  who ...</td>\n      <td>[Thriller, Drama]</td>\n    </tr>\n    <tr>\n      <th>29999</th>\n      <td>In Asheville, Grace , an airport car-rental ag...</td>\n      <td>[Drama]</td>\n    </tr>\n  </tbody>\n</table>\n<p>22677 rows × 2 columns</p>\n</div>"
     },
     "execution_count": 5,
     "metadata": {},
     "output_type": "execute_result"
    }
   ],
   "source": [
    "data_preprocessor.filter_genres(k=5)"
   ],
   "metadata": {
    "collapsed": false,
    "ExecuteTime": {
     "end_time": "2023-07-29T15:31:59.672026Z",
     "start_time": "2023-07-29T15:31:59.391670Z"
    }
   }
  },
  {
   "cell_type": "code",
   "execution_count": 6,
   "outputs": [],
   "source": [
    "mlb = MultiLabelBinarizer()\n",
    "mlb_labels = mlb.fit_transform(data_preprocessor.data['genres'])\n",
    "\n",
    "x_train, x_test, y_train, y_test = train_test_split(data_preprocessor.data['plot_summary'], mlb_labels, test_size=0.2,\n",
    "                                                    random_state=42)"
   ],
   "metadata": {
    "collapsed": false,
    "ExecuteTime": {
     "end_time": "2023-07-29T15:32:00.417372Z",
     "start_time": "2023-07-29T15:32:00.400300Z"
    }
   }
  },
  {
   "cell_type": "code",
   "execution_count": 7,
   "outputs": [],
   "source": [
    "base_classifier = SGDClassifier(loss='log_loss', max_iter=1000, tol=1e-3, random_state=42)\n",
    "classifier = OneVsRestClassifier(base_classifier)"
   ],
   "metadata": {
    "collapsed": false,
    "ExecuteTime": {
     "end_time": "2023-07-29T15:32:01.158482Z",
     "start_time": "2023-07-29T15:32:01.151486Z"
    }
   }
  },
  {
   "cell_type": "code",
   "execution_count": 8,
   "outputs": [],
   "source": [
    "trained_clf_pipeline = ModelHandler.train_model_skl(classifier, x_train, y_train)"
   ],
   "metadata": {
    "collapsed": false,
    "ExecuteTime": {
     "end_time": "2023-07-29T15:32:04.110074Z",
     "start_time": "2023-07-29T15:32:01.632406Z"
    }
   }
  },
  {
   "cell_type": "code",
   "execution_count": 9,
   "outputs": [],
   "source": [
    "reports = ModelHandler.evaluate_model_skl(trained_clf_pipeline, mlb, x_test, y_test)"
   ],
   "metadata": {
    "collapsed": false,
    "ExecuteTime": {
     "end_time": "2023-07-29T15:32:04.681627Z",
     "start_time": "2023-07-29T15:32:04.162790Z"
    }
   }
  },
  {
   "cell_type": "code",
   "execution_count": 10,
   "outputs": [],
   "source": [
    "ModelHandler.save_model_skl(trained_clf_pipeline, mlb, reports, 'SGD_One_vs_Rest')"
   ],
   "metadata": {
    "collapsed": false,
    "ExecuteTime": {
     "end_time": "2023-07-29T15:32:04.940253Z",
     "start_time": "2023-07-29T15:32:04.681118Z"
    }
   }
  },
  {
   "cell_type": "code",
   "execution_count": 11,
   "outputs": [],
   "source": [
    "pre_trained_clf_pipeline, pre_trained_mlb = ModelHandler.load_model_skl('SGD_One_vs_Rest')"
   ],
   "metadata": {
    "collapsed": false,
    "ExecuteTime": {
     "end_time": "2023-07-29T15:32:05.086640Z",
     "start_time": "2023-07-29T15:32:04.941059Z"
    }
   }
  },
  {
   "cell_type": "code",
   "execution_count": 12,
   "outputs": [
    {
     "data": {
      "text/plain": "[('Drama', 0.8108802845929739), ('Romance Film', 0.3871883515917228)]"
     },
     "execution_count": 12,
     "metadata": {},
     "output_type": "execute_result"
    }
   ],
   "source": [
    "results = ModelHandler.inference_model_skl(pre_trained_clf_pipeline, pre_trained_mlb, x_test.iloc[0], threshold=0.2)\n",
    "results"
   ],
   "metadata": {
    "collapsed": false,
    "ExecuteTime": {
     "end_time": "2023-07-29T15:32:05.091106Z",
     "start_time": "2023-07-29T15:32:05.087788Z"
    }
   }
  },
  {
   "cell_type": "code",
   "execution_count": 13,
   "outputs": [],
   "source": [
    "base_xgb = XGBClassifier(eval_metric='logloss')\n",
    "classifier = ClassifierChain(base_xgb, order='random', random_state=42)"
   ],
   "metadata": {
    "collapsed": false,
    "ExecuteTime": {
     "end_time": "2023-07-29T15:32:05.095690Z",
     "start_time": "2023-07-29T15:32:05.093879Z"
    }
   }
  },
  {
   "cell_type": "code",
   "execution_count": 14,
   "outputs": [],
   "source": [
    "trained_clf_pipeline = ModelHandler.train_model_skl(classifier, x_train, y_train)"
   ],
   "metadata": {
    "collapsed": false,
    "ExecuteTime": {
     "end_time": "2023-07-29T15:32:30.783494Z",
     "start_time": "2023-07-29T15:32:05.164691Z"
    }
   }
  },
  {
   "cell_type": "code",
   "execution_count": 15,
   "outputs": [],
   "source": [
    "reports = ModelHandler.evaluate_model_skl(trained_clf_pipeline, mlb, x_test, y_test)"
   ],
   "metadata": {
    "collapsed": false,
    "ExecuteTime": {
     "end_time": "2023-07-29T15:32:31.512083Z",
     "start_time": "2023-07-29T15:32:30.790262Z"
    }
   }
  },
  {
   "cell_type": "code",
   "execution_count": 16,
   "outputs": [],
   "source": [
    "ModelHandler.save_model_skl(trained_clf_pipeline, mlb, reports, 'XGB_Chain')"
   ],
   "metadata": {
    "collapsed": false,
    "ExecuteTime": {
     "end_time": "2023-07-29T15:32:31.850722Z",
     "start_time": "2023-07-29T15:32:31.512584Z"
    }
   }
  },
  {
   "cell_type": "code",
   "execution_count": 17,
   "outputs": [],
   "source": [
    "pre_trained_clf_pipeline, pre_trained_mlb = ModelHandler.load_model_skl('XGB_Chain')"
   ],
   "metadata": {
    "collapsed": false,
    "ExecuteTime": {
     "end_time": "2023-07-29T15:32:32.012494Z",
     "start_time": "2023-07-29T15:32:31.850955Z"
    }
   }
  },
  {
   "cell_type": "code",
   "execution_count": 18,
   "outputs": [
    {
     "data": {
      "text/plain": "[('Action', 0.3328200578689575),\n ('Drama', 0.8717947006225586),\n ('Romance Film', 0.5780348181724548)]"
     },
     "execution_count": 18,
     "metadata": {},
     "output_type": "execute_result"
    }
   ],
   "source": [
    "results = ModelHandler.inference_model_skl(pre_trained_clf_pipeline, pre_trained_mlb, x_test.iloc[0], threshold=0.2)\n",
    "results"
   ],
   "metadata": {
    "collapsed": false,
    "ExecuteTime": {
     "end_time": "2023-07-29T15:32:32.024250Z",
     "start_time": "2023-07-29T15:32:32.013594Z"
    }
   }
  },
  {
   "cell_type": "code",
   "execution_count": null,
   "outputs": [],
   "source": [],
   "metadata": {
    "collapsed": false
   }
  }
 ],
 "metadata": {
  "kernelspec": {
   "display_name": "Python 3",
   "language": "python",
   "name": "python3"
  },
  "language_info": {
   "codemirror_mode": {
    "name": "ipython",
    "version": 2
   },
   "file_extension": ".py",
   "mimetype": "text/x-python",
   "name": "python",
   "nbconvert_exporter": "python",
   "pygments_lexer": "ipython2",
   "version": "2.7.6"
  }
 },
 "nbformat": 4,
 "nbformat_minor": 0
}
